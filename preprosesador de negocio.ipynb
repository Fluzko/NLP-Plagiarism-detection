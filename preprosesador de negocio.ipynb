{
 "cells": [
  {
   "cell_type": "markdown",
   "metadata": {},
   "source": [
    "https://python-docx.readthedocs.io/en/latest/user/documents.html docs para abrir .docx  \n",
    "!pip3 install Unidecodehttps://github.com/python-openxml/python-docx github de la lib  "
   ]
  },
  {
   "cell_type": "markdown",
   "metadata": {},
   "source": [
    "Preprocesador de negocio\n",
    "===\n",
    "Preprocesamiento de textos haciendo uso de logica de negocio particular para el corpus provisto\n",
    "---\n",
    "https://python-docx.readthedocs.io/en/latest/user/documents.html docs para abrir .docx  "
   ]
  },
  {
   "cell_type": "markdown",
   "metadata": {},
   "source": [
    "### Instalacion de paquetes necesarios\n",
    "Primero que nada debemos instalar vis pip los paquetees que utlizaremos"
   ]
  },
  {
   "cell_type": "markdown",
   "metadata": {},
   "source": [
    "**Unidecode**  \n",
    "Para convertir el formato del texto leido a utf-8"
   ]
  },
  {
   "cell_type": "code",
   "execution_count": null,
   "metadata": {},
   "outputs": [],
   "source": [
    "!pip3 install Unidecode"
   ]
  },
  {
   "cell_type": "markdown",
   "metadata": {},
   "source": [
    "**Parser de docx**  \n",
    "Se hace uso de una libreria que nos permite leer un docx, con varias funcionalidades interesantes extras  \n",
    "Mas info en el repo oficial https://github.com/python-openxml/python-docx "
   ]
  },
  {
   "cell_type": "code",
   "execution_count": null,
   "metadata": {},
   "outputs": [],
   "source": [
    "!pip install python-docx"
   ]
  },
  {
   "cell_type": "markdown",
   "metadata": {},
   "source": [
    "**Textract**  \n",
    "Para la extraccion de textos en el resto de los formatos utilizaremos textract"
   ]
  },
  {
   "cell_type": "code",
   "execution_count": null,
   "metadata": {},
   "outputs": [],
   "source": [
    "!apt-get install python-dev libxml2-dev libxslt1-dev antiword unrtf poppler-utils pstotext tesseract-ocr flac ffmpeg lame libmad0 libsox-fmt-mp3 sox libjpeg-dev swig\n",
    "!pip install textract"
   ]
  },
  {
   "cell_type": "markdown",
   "metadata": {},
   "source": [
    "### 1- Parseando .docx"
   ]
  },
  {
   "cell_type": "markdown",
   "metadata": {},
   "source": [
    "Lo primero sera importar la libreria y cambiar el *working directory*, debido a que es requerimiento de la misma para funcionar"
   ]
  },
  {
   "cell_type": "code",
   "execution_count": 1,
   "metadata": {},
   "outputs": [],
   "source": [
    "import docx\n",
    "import os"
   ]
  },
  {
   "cell_type": "code",
   "execution_count": 2,
   "metadata": {},
   "outputs": [],
   "source": [
    "os.chdir('./dataset')"
   ]
  },
  {
   "cell_type": "code",
   "execution_count": 3,
   "metadata": {},
   "outputs": [
    {
     "data": {
      "text/plain": [
       "'/home/facundo/Escritorio/Facundo/Utn/nlp/plagiarism/dataset'"
      ]
     },
     "execution_count": 3,
     "metadata": {},
     "output_type": "execute_result"
    }
   ],
   "source": [
    "os.getcwd()"
   ]
  },
  {
   "cell_type": "markdown",
   "metadata": {},
   "source": [
    "En segundo lugar podremos hacer uso de *Document*, el cual nos devolvera un generador para el documento abierto"
   ]
  },
  {
   "cell_type": "code",
   "execution_count": 4,
   "metadata": {},
   "outputs": [],
   "source": [
    "doc = docx.Document('TP 1 - Marketing (1).docx')"
   ]
  },
  {
   "cell_type": "code",
   "execution_count": 5,
   "metadata": {},
   "outputs": [
    {
     "data": {
      "text/plain": [
       "<docx.document.Document at 0x7f40b9973190>"
      ]
     },
     "execution_count": 5,
     "metadata": {},
     "output_type": "execute_result"
    }
   ],
   "source": [
    "doc"
   ]
  },
  {
   "cell_type": "markdown",
   "metadata": {},
   "source": [
    "Si ejecutamos *.paragraphs* obtendremos un array con los parrafos previamente separados y con .text podremos tenerlo en formato utf-8"
   ]
  },
  {
   "cell_type": "code",
   "execution_count": 6,
   "metadata": {},
   "outputs": [
    {
     "data": {
      "text/plain": [
       "'Trabajo Práctico N° 1'"
      ]
     },
     "execution_count": 6,
     "metadata": {},
     "output_type": "execute_result"
    }
   ],
   "source": [
    "doc.paragraphs[2].text"
   ]
  },
  {
   "cell_type": "code",
   "execution_count": 7,
   "metadata": {},
   "outputs": [
    {
     "data": {
      "text/plain": [
       "['',\n",
       " 'Marketing en Internet y Nueva Economía',\n",
       " 'Trabajo Práctico N° 1',\n",
       " 'La Larga Cola',\n",
       " '',\n",
       " 'Profesor: Alejandro Prince',\n",
       " 'Ayudante: Hernan Borre',\n",
       " 'Curso: K5571  - 2do cuatrimestre 2019 ',\n",
       " '',\n",
       " '',\n",
       " '',\n",
       " '',\n",
       " 'Fecha de entrega:   ',\n",
       " '02/09/2019',\n",
       " '',\n",
       " '',\n",
       " '',\n",
       " '',\n",
       " '',\n",
       " '',\n",
       " 'Consigna',\n",
       " '1) \\t¿Cómo define Anderson a “La larga cola”?  ¿Por qué asegura que es el presente y futuro de la economía minorista? Grafique.',\n",
       " '2) \\tDefina economía de escasez. ¿Cómo influye Internet en este concepto?',\n",
       " '3) \\tRelacione los términos: Ley de Pareto, Economía de masas y Larga Cola.',\n",
       " '4) \\t¿Por qué las tiendas online que basan su estrategia en Larga Cola igualmente necesitan ofrecer “Hits” a sus clientes?',\n",
       " '5) \\tDé 4 ejemplos internacionales o nacionales de empresas (productos o servicios) que basen su modelo económico en La Larga Cola.',\n",
       " '6) \\t¿Cuáles son las 3 fuerzas  o principios en los que se basa la Larga Cola?',\n",
       " '7)     ¿Cuáles son las principales reglas de la Larga Cola? Descríbalas brevemente.',\n",
       " '',\n",
       " 'Resolución',\n",
       " '1) \\t¿Cómo define Anderson a “La larga cola”?  ¿Por qué asegura que es el presente y futuro de la economía minorista? Grafique.',\n",
       " 'La larga cola se define como un nuevo modelo económico que surge de la revolución digital, cuando aparece el mercado de venta online en la web (internet). Los costos de almacenamiento, de distribución, de acceso, etc dejan de ser un límite, a partir de esto cambia el paradigma, no solo lo que importa o mueve la economía son los hits o lo popular, sino que los productos de menor volumen de venta empiezan a ser el foco principal del negocio, para describir esto se mencionan negocios como Netflix, Amazon, Itunes, etc. Los mismos poseen enormes catálogos (casi infinitos) de ventas de productos cada uno en su rubro, donde muchos de ellos no son populares, esto potencia sus ventas, ya que la gente elige los sitios donde mayor cantidad de opciones se ofrecen.',\n",
       " '',\n",
       " ' ',\n",
       " ' ',\n",
       " 'La economía minorista tradicional por necesidad se concentra en la popularidad ya que la gran mayoría de los productos no está disponible en las tiendas físicas, esto limita las opciones. Cuando el comerciante puede bajar sustancialmente los costos de conexión entre la oferta y la demanda cambia la naturaleza del mercado. Poner los nichos al alcance de todos revela la demanda latente de contenidos no comerciales, esto genera una mejora en la economía generando un feedback positivo que transforma y transformará todas las industrias.',\n",
       " '2)  Defina economía de escasez. ¿Cómo influye Internet en este concepto?',\n",
       " 'Cuando la economía se basaba en el éxito, dado que no había suficiente espacio para que todo sea accesible a todos, cuando no había suficientes pantallas para proyectar todas las películas disponibles, ni suficientes canales para transmitir todos los programas de televisión, ni tampoco había suficientes horas del día para ofrecer todo a través de alguno de estos espacios, esto era la economía de la escasez.',\n",
       " 'La internet, su evolución y masividad transformó el mercado de la escasez en abundancia, eliminó los límites mencionados en el párrafo anterior. ',\n",
       " '',\n",
       " '',\n",
       " '3)  Relacione los términos: Ley de Pareto, Economía de masas y Larga Cola.',\n",
       " 'Entre 1970 y 1980 la cultura de masas estaba de auge, todos veían los mismos programas, escuchaban las mismas radios, se imponían las mismas bandas de música muy pocos adinerados tenían acceso más allá de esto. Cuando la revolución digital llegó, grandes compañías cambian el paradigma de la economía de masas, ahora no solo es importante la cabeza, sino que la larga cola amplía las opciones, surgen nuevos nichos que potencian el mercado, la gente ya no elige solo lo popular, la gente busca aquel que más opciones le muestra.',\n",
       " 'El autor describe que la larga cola es en cierta forma el fin de la regla 80/20 (Ley de Pareto), ya no es una realidad que el 20% de los productos generan el 80% de la ganancia, esto solo analizado desde este punto de vista. La larga cola alienta a no dejarse dominar por la regla, un producto situado en el 80% de los menos populares puede pasar al grupo del 20% de los más vendidos.',\n",
       " '4) \\t¿Por qué las tiendas online que basan su estrategia en Larga Cola igualmente necesitan ofrecer “Hits” a sus clientes?',\n",
       " 'La estrategia de la larga cola es un complemento para ampliar y potenciar el mercado ofreciendo mayor cantidad de opciones y libertad de elección al momento de compra de un cliente. Los “hits” seguirán siendo fuente de grandes ingresos para las tiendas, pero la competitividad de las grandes tiendas online está en la capacidad de ofrecer la mayor cantidad de opciones, no eliminando los hits.',\n",
       " 'Los hits en muchos casos son el motor de financiamiento de otros productos de la larga cola, en base a esto se puede hacer crecer el catálogo de esa larga cola, ampliando la vidriera. ',\n",
       " '5) \\tDé 4 ejemplos internacionales o nacionales de empresas (productos o servicios) que basen su modelo económico en La Larga Cola.',\n",
       " '-ITunes: Plataforma de contenido digital.',\n",
       " '-Netflix: Plataforma de entretenimiento que brinda contenido audiovisual.',\n",
       " '-Amazon: Compañía estadounidense de comercio electrónico y servicios de computación en la nube.',\n",
       " '-Google: Motor de búsqueda más utilizado en la web.',\n",
       " '6) \\t¿Cuáles son las 3 fuerzas  o principios en los que se basa la Larga Cola?',\n",
       " ' Las 3 fuerzas son:',\n",
       " 'Democratizar las herramientas de producción: como ejemplo se menciona el ordenador personal, el cual permitió que tareas específicas puedan ser realizadas por el común de las personas, tareas que antes solo podían realizar profesionales. Ejemplo: filmar un cortometraje, grabar un disco, publicar una idea, etc. Esto multiplica los bienes disponibles.',\n",
       " 'Democratizar las herramientas de distribución: el motor de esta fuerza es internet, la misma permitió que todos puedan actuar como distribuidores. Esto permite que todos puedan acceder a infinidad de contenidos.',\n",
       " 'Conectar la oferta y la demanda: la conexión entre la oferta y la demanda permite que los consumidores tengan acceso a los nuevos productos orientando la demanda hacia la larga cola. Esta conexión se da de distintas formas: recomendaciones en sitios webs, opiniones o reseñas de Google, el boca en boca de los blogs, etc. Esto minimiza costos y permite que el negocio se redireccione desde los éxitos hacia los nichos.',\n",
       " '7) ¿Cuáles son las principales reglas de la Larga Cola? Descríbalas brevemente.',\n",
       " 'Principales reglas:',\n",
       " ' ',\n",
       " 'Reducción de costos',\n",
       " 'Use un inventario digital',\n",
       " 'Minimiza costos y permite un catálogo infinito, permite el crecimiento de los nuevos mercados de nicho.',\n",
       " ' ',\n",
       " 'Deje que los clientes hagan el trabajo',\n",
       " 'Los clientes se encargan de calificar los productos, redactando reseñas y fundamentando el porqué, ellos poseen tiempo ilimitado para realizar esta tarea. Luego otros usuarios se fijan en ellas para tomar su decisión de consumo.',\n",
       " ' ',\n",
       " 'Mercado de Nichos',\n",
       " 'No hay un método de distribución para todo',\n",
       " 'No existe un único canal de distribución para todos los productos, por ejemplo, hay clientes que prefieren ir a una tienda, otros compran online, algunos buscan en la web y luego van a la tienda, otros quieren el producto ahora, etc.',\n",
       " '',\n",
       " 'No hay un producto que se adapte a todos',\n",
       " 'Por ejemplo, hoy en día existen muchas opciones de comprar música, por álbum, un tema individual, un tono para el celu, un video, etc. Esto es una tendencia que acapara todos los mercados.',\n",
       " '',\n",
       " 'No use un precio único',\n",
       " 'Existen diferentes personas que están dispuestas a pagar diferentes precios, por diversas razones, cantidad de dinero disponible, tiempo disponible. El precio variable en un mercado de abundante variedad puede ser una poderosa técnica para aumentar el valor de un producto y la dimensión del mercado.',\n",
       " ' ',\n",
       " 'Menor control',\n",
       " 'Comparta la información',\n",
       " 'El saber compartir información de los productos de forma clara y completa, sirve como herramienta de marketing, dar mayor confianza al usuario o cliente, disipando todo tipo de dudas.',\n",
       " ' ',\n",
       " 'Piense en una cosa y otra, no en una u otra',\n",
       " 'Cambio el paradigma, antes teníamos limites en la estantería, por ende, elegíamos una cosa u otra para vender, con la estrategia de la capacidad infinita, el mostrar todo el contenido crea mayor potencial.',\n",
       " '',\n",
       " 'Deje que el mercado trabaje por usted',\n",
       " 'En el mercado de la abundancia podemos ofrecer todo y el mercado hará su tarea, él mismo realizará la selección. La popularidad, el boca en boca amplificaron esta tarea.',\n",
       " ' ',\n",
       " 'Reconocer la fuerza de la gratuidad',\n",
       " 'En los mercados digitales los costos tan bajos, casi 0, han hecho accesible la gratuidad.',\n",
       " '']"
      ]
     },
     "execution_count": 7,
     "metadata": {},
     "output_type": "execute_result"
    }
   ],
   "source": [
    "array_paragraphs = [paragraph.text for paragraph in doc.paragraphs]\n",
    "array_paragraphs"
   ]
  },
  {
   "cell_type": "markdown",
   "metadata": {},
   "source": [
    "### 3- Regex de negocio\n",
    "Segun un analisis previo que se hizo del corpus dado, este hay que \"retocarlo un poco\" antes de comenzar a trabajarlo.  \n",
    "Entre las expresiones regulares se encuentran algunas que eliminan parrafos que empiezan con 1) y similares, parrafos vacios, nombres de profesores, textos irrelevantes, etc."
   ]
  },
  {
   "cell_type": "code",
   "execution_count": 8,
   "metadata": {},
   "outputs": [],
   "source": [
    "import re\n",
    "regexs=[\n",
    "    r\"(^|\\s)[0,1,2,3,4,5,6,7,8,9,a,b,c,d,e,f,g,h,i,j,k,l,m,n,o,p,q,r,s,t,u,v,w,x,y,z]*(\\)|.-|\\s-)\", # empieza con 1) o cualquier numero\n",
    "    r\"^\\s*[0,1,2,3,4,5,6,7,8,9,a,b,c,d,e,f,g,h,i,j,k,l,m,n,o,p,q,r,s,t,u,v,w,x,y,z]*.-\",# igual a la de arriba pero si tiene algun espacio al principio\n",
    "    r\"^consiga|^consigna:|consigna\",\n",
    "    r\"grafique\",\n",
    "    r\"^$\", # string vacio\n",
    "    r\"^\\s$\", # solo un espacio\n",
    "    r\"hernan borre\",\n",
    "    r\"alejandro prince\",\n",
    "    r\"^curso|alumno|profesor|legajo|ayudante\",\n",
    "    r\"^trabajo practico\",\n",
    "    r\"^fecha de entrega\",\n",
    "    r\"\\[pic\\]\",\n",
    "    r\"universidad tecnologica nacional|utn|frba|facultad regional buenos aires|ingenieria en sistemas de informacion|ingenieria en sistemas\",\n",
    "    r\"Ingenieria en Sistemas de Informacion\",\n",
    "]\n",
    "\n",
    "def invalid_paragraph(paragraph):\n",
    "    for regex in regexs:\n",
    "        if re.search(regex, unidecode.unidecode(paragraph.lower())): # minuscula y sin tildes\n",
    "            return True\n",
    "    return False"
   ]
  },
  {
   "cell_type": "markdown",
   "metadata": {},
   "source": [
    "### 3- Aplico las regex para filtrar los parrafos leidos"
   ]
  },
  {
   "cell_type": "code",
   "execution_count": 9,
   "metadata": {},
   "outputs": [
    {
     "data": {
      "text/plain": [
       "['Marketing en Internet y Nueva Economía',\n",
       " 'La Larga Cola',\n",
       " '02/09/2019',\n",
       " 'Resolución',\n",
       " 'La economía minorista tradicional por necesidad se concentra en la popularidad ya que la gran mayoría de los productos no está disponible en las tiendas físicas, esto limita las opciones. Cuando el comerciante puede bajar sustancialmente los costos de conexión entre la oferta y la demanda cambia la naturaleza del mercado. Poner los nichos al alcance de todos revela la demanda latente de contenidos no comerciales, esto genera una mejora en la economía generando un feedback positivo que transforma y transformará todas las industrias.',\n",
       " 'Cuando la economía se basaba en el éxito, dado que no había suficiente espacio para que todo sea accesible a todos, cuando no había suficientes pantallas para proyectar todas las películas disponibles, ni suficientes canales para transmitir todos los programas de televisión, ni tampoco había suficientes horas del día para ofrecer todo a través de alguno de estos espacios, esto era la economía de la escasez.',\n",
       " 'La internet, su evolución y masividad transformó el mercado de la escasez en abundancia, eliminó los límites mencionados en el párrafo anterior. ',\n",
       " 'Entre 1970 y 1980 la cultura de masas estaba de auge, todos veían los mismos programas, escuchaban las mismas radios, se imponían las mismas bandas de música muy pocos adinerados tenían acceso más allá de esto. Cuando la revolución digital llegó, grandes compañías cambian el paradigma de la economía de masas, ahora no solo es importante la cabeza, sino que la larga cola amplía las opciones, surgen nuevos nichos que potencian el mercado, la gente ya no elige solo lo popular, la gente busca aquel que más opciones le muestra.',\n",
       " 'La estrategia de la larga cola es un complemento para ampliar y potenciar el mercado ofreciendo mayor cantidad de opciones y libertad de elección al momento de compra de un cliente. Los “hits” seguirán siendo fuente de grandes ingresos para las tiendas, pero la competitividad de las grandes tiendas online está en la capacidad de ofrecer la mayor cantidad de opciones, no eliminando los hits.',\n",
       " 'Los hits en muchos casos son el motor de financiamiento de otros productos de la larga cola, en base a esto se puede hacer crecer el catálogo de esa larga cola, ampliando la vidriera. ',\n",
       " '-ITunes: Plataforma de contenido digital.',\n",
       " '-Netflix: Plataforma de entretenimiento que brinda contenido audiovisual.',\n",
       " '-Amazon: Compañía estadounidense de comercio electrónico y servicios de computación en la nube.',\n",
       " '-Google: Motor de búsqueda más utilizado en la web.',\n",
       " ' Las 3 fuerzas son:',\n",
       " 'Democratizar las herramientas de producción: como ejemplo se menciona el ordenador personal, el cual permitió que tareas específicas puedan ser realizadas por el común de las personas, tareas que antes solo podían realizar profesionales. Ejemplo: filmar un cortometraje, grabar un disco, publicar una idea, etc. Esto multiplica los bienes disponibles.',\n",
       " 'Democratizar las herramientas de distribución: el motor de esta fuerza es internet, la misma permitió que todos puedan actuar como distribuidores. Esto permite que todos puedan acceder a infinidad de contenidos.',\n",
       " 'Conectar la oferta y la demanda: la conexión entre la oferta y la demanda permite que los consumidores tengan acceso a los nuevos productos orientando la demanda hacia la larga cola. Esta conexión se da de distintas formas: recomendaciones en sitios webs, opiniones o reseñas de Google, el boca en boca de los blogs, etc. Esto minimiza costos y permite que el negocio se redireccione desde los éxitos hacia los nichos.',\n",
       " 'Principales reglas:',\n",
       " 'Reducción de costos',\n",
       " 'Use un inventario digital',\n",
       " 'Minimiza costos y permite un catálogo infinito, permite el crecimiento de los nuevos mercados de nicho.',\n",
       " 'Deje que los clientes hagan el trabajo',\n",
       " 'Los clientes se encargan de calificar los productos, redactando reseñas y fundamentando el porqué, ellos poseen tiempo ilimitado para realizar esta tarea. Luego otros usuarios se fijan en ellas para tomar su decisión de consumo.',\n",
       " 'Mercado de Nichos',\n",
       " 'No hay un método de distribución para todo',\n",
       " 'No existe un único canal de distribución para todos los productos, por ejemplo, hay clientes que prefieren ir a una tienda, otros compran online, algunos buscan en la web y luego van a la tienda, otros quieren el producto ahora, etc.',\n",
       " 'No hay un producto que se adapte a todos',\n",
       " 'Por ejemplo, hoy en día existen muchas opciones de comprar música, por álbum, un tema individual, un tono para el celu, un video, etc. Esto es una tendencia que acapara todos los mercados.',\n",
       " 'No use un precio único',\n",
       " 'Existen diferentes personas que están dispuestas a pagar diferentes precios, por diversas razones, cantidad de dinero disponible, tiempo disponible. El precio variable en un mercado de abundante variedad puede ser una poderosa técnica para aumentar el valor de un producto y la dimensión del mercado.',\n",
       " 'Menor control',\n",
       " 'Comparta la información',\n",
       " 'El saber compartir información de los productos de forma clara y completa, sirve como herramienta de marketing, dar mayor confianza al usuario o cliente, disipando todo tipo de dudas.',\n",
       " 'Piense en una cosa y otra, no en una u otra',\n",
       " 'Cambio el paradigma, antes teníamos limites en la estantería, por ende, elegíamos una cosa u otra para vender, con la estrategia de la capacidad infinita, el mostrar todo el contenido crea mayor potencial.',\n",
       " 'Deje que el mercado trabaje por usted',\n",
       " 'En el mercado de la abundancia podemos ofrecer todo y el mercado hará su tarea, él mismo realizará la selección. La popularidad, el boca en boca amplificaron esta tarea.',\n",
       " 'Reconocer la fuerza de la gratuidad',\n",
       " 'En los mercados digitales los costos tan bajos, casi 0, han hecho accesible la gratuidad.']"
      ]
     },
     "execution_count": 9,
     "metadata": {},
     "output_type": "execute_result"
    }
   ],
   "source": [
    "import unidecode\n",
    "[paragraph for paragraph in array_paragraphs if not invalid_paragraph(paragraph)]"
   ]
  },
  {
   "cell_type": "markdown",
   "metadata": {},
   "source": [
    "ultimo retoque, para tener el texto ordenado"
   ]
  },
  {
   "cell_type": "code",
   "execution_count": 10,
   "metadata": {},
   "outputs": [
    {
     "data": {
      "text/plain": [
       "'Marketing en Internet y Nueva Economía\\nLa Larga Cola\\n02/09/2019\\nResolución\\nLa economía minorista tradicional por necesidad se concentra en la popularidad ya que la gran mayoría de los productos no está disponible en las tiendas físicas, esto limita las opciones. Cuando el comerciante puede bajar sustancialmente los costos de conexión entre la oferta y la demanda cambia la naturaleza del mercado. Poner los nichos al alcance de todos revela la demanda latente de contenidos no comerciales, esto genera una mejora en la economía generando un feedback positivo que transforma y transformará todas las industrias.\\nCuando la economía se basaba en el éxito, dado que no había suficiente espacio para que todo sea accesible a todos, cuando no había suficientes pantallas para proyectar todas las películas disponibles, ni suficientes canales para transmitir todos los programas de televisión, ni tampoco había suficientes horas del día para ofrecer todo a través de alguno de estos espacios, esto era la economía de la escasez.\\nLa internet, su evolución y masividad transformó el mercado de la escasez en abundancia, eliminó los límites mencionados en el párrafo anterior. \\nEntre 1970 y 1980 la cultura de masas estaba de auge, todos veían los mismos programas, escuchaban las mismas radios, se imponían las mismas bandas de música muy pocos adinerados tenían acceso más allá de esto. Cuando la revolución digital llegó, grandes compañías cambian el paradigma de la economía de masas, ahora no solo es importante la cabeza, sino que la larga cola amplía las opciones, surgen nuevos nichos que potencian el mercado, la gente ya no elige solo lo popular, la gente busca aquel que más opciones le muestra.\\nLa estrategia de la larga cola es un complemento para ampliar y potenciar el mercado ofreciendo mayor cantidad de opciones y libertad de elección al momento de compra de un cliente. Los “hits” seguirán siendo fuente de grandes ingresos para las tiendas, pero la competitividad de las grandes tiendas online está en la capacidad de ofrecer la mayor cantidad de opciones, no eliminando los hits.\\nLos hits en muchos casos son el motor de financiamiento de otros productos de la larga cola, en base a esto se puede hacer crecer el catálogo de esa larga cola, ampliando la vidriera. \\n-ITunes: Plataforma de contenido digital.\\n-Netflix: Plataforma de entretenimiento que brinda contenido audiovisual.\\n-Amazon: Compañía estadounidense de comercio electrónico y servicios de computación en la nube.\\n-Google: Motor de búsqueda más utilizado en la web.\\n Las 3 fuerzas son:\\nDemocratizar las herramientas de producción: como ejemplo se menciona el ordenador personal, el cual permitió que tareas específicas puedan ser realizadas por el común de las personas, tareas que antes solo podían realizar profesionales. Ejemplo: filmar un cortometraje, grabar un disco, publicar una idea, etc. Esto multiplica los bienes disponibles.\\nDemocratizar las herramientas de distribución: el motor de esta fuerza es internet, la misma permitió que todos puedan actuar como distribuidores. Esto permite que todos puedan acceder a infinidad de contenidos.\\nConectar la oferta y la demanda: la conexión entre la oferta y la demanda permite que los consumidores tengan acceso a los nuevos productos orientando la demanda hacia la larga cola. Esta conexión se da de distintas formas: recomendaciones en sitios webs, opiniones o reseñas de Google, el boca en boca de los blogs, etc. Esto minimiza costos y permite que el negocio se redireccione desde los éxitos hacia los nichos.\\nPrincipales reglas:\\nReducción de costos\\nUse un inventario digital\\nMinimiza costos y permite un catálogo infinito, permite el crecimiento de los nuevos mercados de nicho.\\nDeje que los clientes hagan el trabajo\\nLos clientes se encargan de calificar los productos, redactando reseñas y fundamentando el porqué, ellos poseen tiempo ilimitado para realizar esta tarea. Luego otros usuarios se fijan en ellas para tomar su decisión de consumo.\\nMercado de Nichos\\nNo hay un método de distribución para todo\\nNo existe un único canal de distribución para todos los productos, por ejemplo, hay clientes que prefieren ir a una tienda, otros compran online, algunos buscan en la web y luego van a la tienda, otros quieren el producto ahora, etc.\\nNo hay un producto que se adapte a todos\\nPor ejemplo, hoy en día existen muchas opciones de comprar música, por álbum, un tema individual, un tono para el celu, un video, etc. Esto es una tendencia que acapara todos los mercados.\\nNo use un precio único\\nExisten diferentes personas que están dispuestas a pagar diferentes precios, por diversas razones, cantidad de dinero disponible, tiempo disponible. El precio variable en un mercado de abundante variedad puede ser una poderosa técnica para aumentar el valor de un producto y la dimensión del mercado.\\nMenor control\\nComparta la información\\nEl saber compartir información de los productos de forma clara y completa, sirve como herramienta de marketing, dar mayor confianza al usuario o cliente, disipando todo tipo de dudas.\\nPiense en una cosa y otra, no en una u otra\\nCambio el paradigma, antes teníamos limites en la estantería, por ende, elegíamos una cosa u otra para vender, con la estrategia de la capacidad infinita, el mostrar todo el contenido crea mayor potencial.\\nDeje que el mercado trabaje por usted\\nEn el mercado de la abundancia podemos ofrecer todo y el mercado hará su tarea, él mismo realizará la selección. La popularidad, el boca en boca amplificaron esta tarea.\\nReconocer la fuerza de la gratuidad\\nEn los mercados digitales los costos tan bajos, casi 0, han hecho accesible la gratuidad.'"
      ]
     },
     "execution_count": 10,
     "metadata": {},
     "output_type": "execute_result"
    }
   ],
   "source": [
    "'\\n'.join([paragraph.text for paragraph in doc.paragraphs if not invalid_paragraph(paragraph.text)])"
   ]
  },
  {
   "cell_type": "markdown",
   "metadata": {},
   "source": [
    "### 4- Parsear .doc"
   ]
  },
  {
   "cell_type": "markdown",
   "metadata": {},
   "source": [
    "Hacemos uso de las librerias *textract* y de *unidecode* para obtener el texto en formato utf-8"
   ]
  },
  {
   "cell_type": "code",
   "execution_count": 11,
   "metadata": {},
   "outputs": [],
   "source": [
    "os.getcwd()\n",
    "import textract\n",
    "text = textract.process(\"TP2 MKT - Gariglio.doc\")"
   ]
  },
  {
   "cell_type": "code",
   "execution_count": 12,
   "metadata": {},
   "outputs": [
    {
     "data": {
      "text/plain": [
       "['',\n",
       " 'Test de lectura - La larga cola – C. Anderson',\n",
       " '',\n",
       " 'Consiga:',\n",
       " '',\n",
       " '- Leer los capítulos 1, 4 y 8 del libro original “La economía Long Tail” de',\n",
       " 'Chris Anderson. Luego responder el siguiente cuestionario:',\n",
       " '',\n",
       " '',\n",
       " '   1) ¿Cómo define Anderson a “La larga cola”?  ¿Por qué asegura que es el',\n",
       " '      presente y futuro de la economía minorista? Grafique.',\n",
       " '',\n",
       " '',\n",
       " '      Según Anderson La “Larga Cola” es el fenómeno que se produce en la',\n",
       " '      economías impulsadas por los medios digitales donde las ventas y el',\n",
       " '      consumo de los muchos productos menos populares alcanzan (o superan)',\n",
       " '      las ventas de los pocos productos mas populares. Este concepto pasó a',\n",
       " '      ser muy importante gracias a que internet amplió el alcance y la',\n",
       " '      oferta de contenidos (pocos populares, o de nicho) que antes no',\n",
       " '      hubiesen tenido lugar.',\n",
       " '',\n",
       " '',\n",
       " '                                    [pic]',\n",
       " '  El área bajo la sección de curva A es comparable al área B, dado que esta',\n",
       " '               última se extiende prácticamente hasta infinito',\n",
       " '',\n",
       " '',\n",
       " '',\n",
       " '',\n",
       " '',\n",
       " '',\n",
       " '   2) Defina economía de escasez. ¿Cómo influye Internet en este concepto?',\n",
       " '',\n",
       " '',\n",
       " '      La economía de escasez implica que hay un espacio limitado donde los',\n",
       " '      productos se pueden ofrecer en una economía (ej: estanterías de un',\n",
       " '      supermercado). Esto implica que un vendedor para maximizar su',\n",
       " '      rentabilidad solo ofrecerá productos que se vendan mejor. El',\n",
       " '      surgimiento de internet permitió derribar este aspecto de la economía,',\n",
       " '      ofreciendo “estanterías infinitas” donde todos los productos pueden',\n",
       " '      ser ofrecidos, incluso aquellos que tienen una demanda reducida.',\n",
       " '',\n",
       " '',\n",
       " '   3) Relacione los términos: Ley de Pareto, Economía de masas y Larga Cola.',\n",
       " '',\n",
       " '',\n",
       " '',\n",
       " '',\n",
       " '      La Ley de Pareto estaba relacionada en su principio con la economía de',\n",
       " '      masas, donde el 80% de las ganancias eran generadas por el 20% de los',\n",
       " '      productos que mas se vendían (hits). Con la irrupción de Internet en',\n",
       " '      la nueva economía este concepto fue quedando obsoleto, ya que la Larga',\n",
       " '      Cola implica igual rentabilidad o mayor que los hits',\n",
       " '',\n",
       " '',\n",
       " '',\n",
       " '',\n",
       " '   4) ¿Por qué las tiendas online que basan su estrategia en Larga Cola',\n",
       " '      igualmente necesitan ofrecer “Hits” a sus clientes?',\n",
       " '',\n",
       " '',\n",
       " '      Si bien La Larga Cola permite maximizar la rentabilidad de las tiendas',\n",
       " '      online, la mayor parte de los ingresos provienen de los pocos “hits”',\n",
       " '      mas populares. Además, ofrecer estos “hits” les permite obtener una',\n",
       " '      rentabilidad segura ya que no es un mercado que fluctue demasiado.',\n",
       " '',\n",
       " '',\n",
       " '   5) Dé 4 ejemplos internacionales o nacionales de empresas (productos o',\n",
       " '      servicios) que basen su modelo económico en La Larga Cola.',\n",
       " '',\n",
       " '',\n",
       " '      Netflix: Si bien posee algunas seríes y películas consideradas',\n",
       " '      “Blockbusters”, al no ofrecer estrenos basa su modelo de negocios en',\n",
       " '      La Larga Cola (su amplio contenido audiovisual) y su algoritmos para',\n",
       " '      hacer que los usuarios puedan encontrar estos contenidos.',\n",
       " '',\n",
       " '',\n",
       " '      Spotify: Idem a Netflix, pero ofreciendo contenido de canciones.',\n",
       " '',\n",
       " '',\n",
       " '      Amazon: No solo poseen un catálogo online prácticamente ilimitado de',\n",
       " '      libros físicos, sino que fueron los principales impulsores de las',\n",
       " '      tiendas de libros digitales y los lectores de Ebooks',\n",
       " '',\n",
       " '',\n",
       " '   6) ¿Cuáles son las 3 fuerzas  o principios en los que se basa la Larga',\n",
       " '      Cola?',\n",
       " '',\n",
       " '',\n",
       " '      Considerando el principio 0 (se da en un ámbito online) los tres',\n",
       " '      principios son:',\n",
       " '',\n",
       " '',\n",
       " '   1) Democratizar la Oferta/Producción: es mucho mas fácil acceder a los',\n",
       " '      medios y la tecnología para generar contenido',\n",
       " '   2) Democratiza la Demanda: Se ofrece a todos los usuarios todos lo',\n",
       " '      contenidos',\n",
       " '   3) Juntar a la oferta con la demanda: Incentivar a la gente que produzca',\n",
       " '      nuevos contenidos y también a que lo consuman.',\n",
       " '',\n",
       " '',\n",
       " '   7) ¿Cuáles son las principales reglas de la Larga Cola? Descríbalas',\n",
       " '      brevemente.',\n",
       " '']"
      ]
     },
     "execution_count": 12,
     "metadata": {},
     "output_type": "execute_result"
    }
   ],
   "source": [
    "text.decode(\"utf-8\").split('\\n')\n"
   ]
  },
  {
   "cell_type": "markdown",
   "metadata": {},
   "source": [
    "Aplicamos regexs de negocio"
   ]
  },
  {
   "cell_type": "code",
   "execution_count": 13,
   "metadata": {},
   "outputs": [
    {
     "data": {
      "text/plain": [
       "['- Leer los capitulos 1, 4 y 8 del libro original \"La economia Long Tail\" de',\n",
       " 'Chris Anderson. Luego responder el siguiente cuestionario:',\n",
       " '      Segun Anderson La \"Larga Cola\" es el fenomeno que se produce en la',\n",
       " '      economias impulsadas por los medios digitales donde las ventas y el',\n",
       " '      las ventas de los pocos productos mas populares. Este concepto paso a',\n",
       " '      ser muy importante gracias a que internet amplio el alcance y la',\n",
       " '      hubiesen tenido lugar.',\n",
       " '  El area bajo la seccion de curva A es comparable al area B, dado que esta',\n",
       " '               ultima se extiende practicamente hasta infinito',\n",
       " '      La economia de escasez implica que hay un espacio limitado donde los',\n",
       " '      productos se pueden ofrecer en una economia (ej: estanterias de un',\n",
       " '      rentabilidad solo ofrecera productos que se vendan mejor. El',\n",
       " '      surgimiento de internet permitio derribar este aspecto de la economia,',\n",
       " '      ofreciendo \"estanterias infinitas\" donde todos los productos pueden',\n",
       " '      ser ofrecidos, incluso aquellos que tienen una demanda reducida.',\n",
       " '      La Ley de Pareto estaba relacionada en su principio con la economia de',\n",
       " '      masas, donde el 80% de las ganancias eran generadas por el 20% de los',\n",
       " '      productos que mas se vendian (hits). Con la irrupcion de Internet en',\n",
       " '      la nueva economia este concepto fue quedando obsoleto, ya que la Larga',\n",
       " '      Cola implica igual rentabilidad o mayor que los hits',\n",
       " '      igualmente necesitan ofrecer \"Hits\" a sus clientes?',\n",
       " '      Si bien La Larga Cola permite maximizar la rentabilidad de las tiendas',\n",
       " '      online, la mayor parte de los ingresos provienen de los pocos \"hits\"',\n",
       " '      mas populares. Ademas, ofrecer estos \"hits\" les permite obtener una',\n",
       " '      rentabilidad segura ya que no es un mercado que fluctue demasiado.',\n",
       " '      Netflix: Si bien posee algunas series y peliculas consideradas',\n",
       " '      \"Blockbusters\", al no ofrecer estrenos basa su modelo de negocios en',\n",
       " '      hacer que los usuarios puedan encontrar estos contenidos.',\n",
       " '      Spotify: Idem a Netflix, pero ofreciendo contenido de canciones.',\n",
       " '      Amazon: No solo poseen un catalogo online practicamente ilimitado de',\n",
       " '      libros fisicos, sino que fueron los principales impulsores de las',\n",
       " '      tiendas de libros digitales y los lectores de Ebooks',\n",
       " '      Cola?',\n",
       " '      principios son:',\n",
       " '      medios y la tecnologia para generar contenido',\n",
       " '      contenidos',\n",
       " '      nuevos contenidos y tambien a que lo consuman.',\n",
       " '      brevemente.']"
      ]
     },
     "execution_count": 13,
     "metadata": {},
     "output_type": "execute_result"
    }
   ],
   "source": [
    "[paragraph for paragraph in unidecode.unidecode(text.decode(\"utf-8\")).split('\\n') if not invalid_paragraph(paragraph)]"
   ]
  },
  {
   "cell_type": "markdown",
   "metadata": {},
   "source": [
    "### 4- Parsear .pdf\n",
    "Debido a que la libreria *textract* nos proporciona soporte para pdfs tambien, nos resulta transparente abrir uno de ellos.  \n",
    "El procedimiento, entonces, sera el mismo que para un .doc"
   ]
  },
  {
   "cell_type": "code",
   "execution_count": 14,
   "metadata": {},
   "outputs": [],
   "source": [
    "text = textract.process(\"TP1 (1).pdf\")"
   ]
  },
  {
   "cell_type": "code",
   "execution_count": 15,
   "metadata": {},
   "outputs": [
    {
     "data": {
      "text/plain": [
       "['Alejandro Bracho',\n",
       " 'Tomas Duhourq',\n",
       " '144.521-2',\n",
       " 'La  produccion entre iguales  refiere a la forma en que las masas de personas, en',\n",
       " 'conjunto con empresas, colaboran abiertamente para potenciar la innovacion y el',\n",
       " 'crecimiento en sus respectivos sectores. Esto se debe en gran parte a la flexibilidad',\n",
       " 'en las redes, sin limitaciones de figuras como el \"jefe\" de la antigua industria, en',\n",
       " 'conjuncion a ser muy accesible: se necesita unicamente conexion a Internet y una',\n",
       " 'computadora.',\n",
       " 'wikinomia.',\n",
       " 'De un ejemplo de cada una.',\n",
       " 'Los 4 componentes de la  wikinomia  son:',\n",
       " '- Apertura:  cambios radicales en comunicacion de informacion empresarial que',\n",
       " 'previamente era secreta para stakeholders y board, el hecho de tener',\n",
       " 'adopcion de la transparencia como factor potente para el exito empresarial,',\n",
       " 'llevan a una economia abierta a nivel global, llegando a niveles de supresion',\n",
       " 'de barreras arancelarias y TI.',\n",
       " '- Interaccion entre iguales:  forma de organizacion horizontal a nivel',\n",
       " 'empresarial, tomando en cuenta el criterio y valor de cada individuo en base',\n",
       " 'a las experiencias y motivaciones de cada uno, creando diversidad. El mayor',\n",
       " 'impacto se da en la creacion de productos de informacion. Un claro ejemplo',\n",
       " 'es la creacion de Linux como sistema operativo comunitario open source.',\n",
       " '- Compartir:  dar acceso a la gente a extractos de informacion, como por',\n",
       " 'ejemplo de musica y video, evita una paralizacion de creacion de valor para',\n",
       " 'los autores de esa informacion. Pero no se limita a este tipo de informacion,',\n",
       " 'sino tambien hasta llamadas por Skype.',\n",
       " '- Actuacion global:  no existen barreras geograficas para el movimiento de la',\n",
       " 'informacion: si se quiere conocer una tortuga de las Galapagos, se puede',\n",
       " 'tranquilamente. Se construyen progresivamente ecosistemas a nivel',\n",
       " 'planetario de proveedores, logistica, ventas, etc.',\n",
       " 'colaboracion masiva.',\n",
       " 'La  emergencia  creada por la colaboracion masiva da una nocion de creacion de',\n",
       " 'atributos, estructuras y capacidades para la autoorganizacion. Un claro ejemplo es',\n",
       " 'la colaboracion con grandes empresas mediante las APIs abiertas, ya que se opina',\n",
       " 'que las personas mas inteligentes estan fuera de las organizacion.',\n",
       " 'tiene? Explique que y cuales son los costos de transaccion.',\n",
       " 'No es practico descomponer la fabricacion y procesos industriales en transacciones',\n",
       " 'negociadas de forma independiente, por los costes de busqueda, contratacion y',\n",
       " 'coordinacion. La  Ley de Coase  plantea que los costes de negociacion sean bajos',\n",
       " 'para las partes, y quienes tienen la propiedad de los recursos pueden identificar la',\n",
       " 'causa de los danos a su propiedad, e impedirlos por medios legales.',\n",
       " 'Los costes de realizar una transaccion adicional deben igualar los costes de',\n",
       " 'desempenar esa misma funcion en el mercado abierto.',\n",
       " 'En la actualidad, las empresas deben replegarse hasta que el coste que supone',\n",
       " 'realizar una transaccion de forma interna no supere el coste que implica realizarla',\n",
       " 'de forma externa, poniendo a la inversa la Ley.',\n",
       " 'La produccion colaborativa se ve favorecida por la autoorganizacion en',\n",
       " 'comunidades igualitarias de individuos que se juntan de forma voluntaria. Otro factor',\n",
       " 'es el liderazgo producido naturalmente entre los miembros mas calificados y con',\n",
       " 'mas experiencia.',\n",
       " 'La  autoseleccion  provoca que las personas elijan realizar tareas para las cuales se',\n",
       " 'consideran aptos, provocando excelentes aportes porque son tareas de interes para',\n",
       " 'estos individuos.',\n",
       " 'Se favorece fuertemente la produccion entre iguales cuando se dan como minimo:',\n",
       " '- el objetivo a producir es informacion o cultura',\n",
       " '- que a las tareas las caracterice un sentido de descomposicion en porciones',\n",
       " 'reducidas que puedan ser realizadas en paralelo.',\n",
       " '- el coste de la combinacion de estas pequenas partes debe ser bajo']"
      ]
     },
     "execution_count": 15,
     "metadata": {},
     "output_type": "execute_result"
    }
   ],
   "source": [
    "[paragraph for paragraph in unidecode.unidecode(text.decode(\"utf-8\")).split('\\n') if not invalid_paragraph(paragraph)]"
   ]
  },
  {
   "cell_type": "markdown",
   "metadata": {},
   "source": [
    "### 5- .pptx\n",
    "Se decide ignorar estos archivos, debido a que la relacion esfuerzo - conveniencia resulta muy baja, siendo solo 2 archivos pptx entre 307 de un corpus"
   ]
  },
  {
   "cell_type": "code",
   "execution_count": 16,
   "metadata": {},
   "outputs": [
    {
     "data": {
      "text/plain": [
       "0.006514657980456026"
      ]
     },
     "execution_count": 16,
     "metadata": {},
     "output_type": "execute_result"
    }
   ],
   "source": [
    "2/307"
   ]
  },
  {
   "cell_type": "code",
   "execution_count": null,
   "metadata": {},
   "outputs": [],
   "source": []
  }
 ],
 "metadata": {
  "kernelspec": {
   "display_name": "Python 3",
   "language": "python",
   "name": "python3"
  },
  "language_info": {
   "codemirror_mode": {
    "name": "ipython",
    "version": 3
   },
   "file_extension": ".py",
   "mimetype": "text/x-python",
   "name": "python",
   "nbconvert_exporter": "python",
   "pygments_lexer": "ipython3",
   "version": "3.7.9"
  }
 },
 "nbformat": 4,
 "nbformat_minor": 4
}
